{
 "cells": [
  {
   "cell_type": "code",
   "execution_count": 9,
   "metadata": {},
   "outputs": [
    {
     "name": "stderr",
     "output_type": "stream",
     "text": [
      "\n",
      "\n",
      "====== WebDriver manager ======\n",
      "Current google-chrome version is 99.0.4844\n",
      "Get LATEST chromedriver version for 99.0.4844 google-chrome\n",
      "Driver [/Users/andrehaberkorn/.wdm/drivers/chromedriver/mac64/99.0.4844.51/chromedriver] found in cache\n"
     ]
    }
   ],
   "source": [
    "# selenium 4\n",
    "from selenium import webdriver\n",
    "from selenium.webdriver.chrome.service import Service\n",
    "from selenium.webdriver.chrome.options import Options\n",
    "from webdriver_manager.chrome import ChromeDriverManager\n",
    "from selenium.webdriver.common.by import By \n",
    "import re # regular expressions\n",
    "import time \n",
    "import json\n",
    "import random\n",
    "import logging\n",
    "#### MQTT ###\n",
    "from paho.mqtt import client as mqtt_client\n",
    "from datetime import datetime\n",
    "\n",
    "options = Options()\n",
    "options.headless = True\n",
    "#driver = webdriver.Chrome(service=Service(ChromeDriverManager(cache_valid_range=1).install()),options=options)\n",
    "url = \"http://www.berliner-feuerwehr.de\"\n",
    "\n",
    "\n",
    "\n",
    "broker = '192.168.188.21'\n",
    "port = 1883\n",
    "topic = \"einsatzzahlen\"\n",
    "client_id = f'python-mqtt-{random.randint(0, 1000)}'\n",
    "# username = 'emqx'\n",
    "# password = 'public'\n",
    "\n",
    "def connect_mqtt():\n",
    "    def on_connect(client, userdata, flags, rc):\n",
    "        if rc == 0:\n",
    "            print(\"Connected to MQTT Broker!\")\n",
    "        else:\n",
    "            print(\"Failed to connect, return code %d\\n\", rc)\n",
    "    # Set Connecting Client ID\n",
    "    client = mqtt_client.Client(client_id)\n",
    "    #client.username_pw_set(username, password)\n",
    "    client.on_connect = on_connect\n",
    "    client.connect(broker, port)\n",
    "    #client.enable_logger(logger=None)\n",
    "    return client\n",
    "\n",
    "\n",
    "def publish(client,data):\n",
    "    now = datetime.now()\n",
    "    current_time = now.strftime(\"%H:%M:%S:%f\")\n",
    "    \n",
    "         #time.sleep(10)  # Intervall bis zur nächsten Nachricht #\n",
    "    msg = f'{data}'\n",
    "    result = client.publish(topic, msg)\n",
    "    \n",
    "    # result: [0, 1]\n",
    "    status = result[0]\n",
    "    if status == 0:\n",
    "        print(f\"{current_time} Send `{msg}` to topic `{topic}`\")\n",
    "    else:\n",
    "        print(f\"Failed to send message to topic {topic}\")\n",
    "        \n",
    "\n",
    "def get_data():\n",
    "    driver = webdriver.Chrome(service=Service(ChromeDriverManager(cache_valid_range=1).install()),options=options)\n",
    "    driver.get(url)\n",
    "    driver.implicitly_wait(8)\n",
    "    try:\n",
    "        box = driver.find_element(By.ID, \"bfw-ez-data\")\n",
    "    #print(box.text)\n",
    "    except:\n",
    "        pass\n",
    "    einsatz = {}\n",
    "    try:\n",
    "        regex = '\"[0-9]+\"gm'\n",
    "        data = re.findall('[0-9]+',box.text)\n",
    "        einsatz ={\"Brandbekämpfung\": data[3], \"Technische Hilfeleistung\": data[4], \"Rettungsdienst\":data[5]}\n",
    "    except:\n",
    "        print(\"NO Response\")\n",
    "        pass\n",
    "    driver.close()\n",
    "    return einsatz\n",
    "def main():\n",
    "    client = connect_mqtt()\n",
    "    client.loop()\n",
    "    while True:\n",
    "        daten ={}\n",
    "        daten = get_data()\n",
    "        if daten:\n",
    "            #print(daten)\n",
    "            publish(client,daten)\n",
    "        \n",
    "        \n",
    "        time.sleep(40)\n",
    "        "
   ]
  },
  {
   "cell_type": "code",
   "execution_count": 11,
   "metadata": {},
   "outputs": [
    {
     "name": "stderr",
     "output_type": "stream",
     "text": [
      "\n",
      "\n",
      "====== WebDriver manager ======\n"
     ]
    },
    {
     "name": "stdout",
     "output_type": "stream",
     "text": [
      "Connected to MQTT Broker!\n"
     ]
    },
    {
     "name": "stderr",
     "output_type": "stream",
     "text": [
      "Current google-chrome version is 99.0.4844\n",
      "Get LATEST chromedriver version for 99.0.4844 google-chrome\n",
      "Driver [/Users/andrehaberkorn/.wdm/drivers/chromedriver/mac64/99.0.4844.51/chromedriver] found in cache\n"
     ]
    },
    {
     "name": "stdout",
     "output_type": "stream",
     "text": [
      "14:50:19:735017 Send `{'Brandbekämpfung': '16', 'Technische Hilfeleistung': '39', 'Rettungsdienst': '710'}` to topic `einsatzzahlen`\n"
     ]
    },
    {
     "name": "stderr",
     "output_type": "stream",
     "text": [
      "\n",
      "\n",
      "====== WebDriver manager ======\n",
      "Current google-chrome version is 99.0.4844\n",
      "Get LATEST chromedriver version for 99.0.4844 google-chrome\n",
      "Driver [/Users/andrehaberkorn/.wdm/drivers/chromedriver/mac64/99.0.4844.51/chromedriver] found in cache\n"
     ]
    },
    {
     "name": "stdout",
     "output_type": "stream",
     "text": [
      "14:51:04:054341 Send `{'Brandbekämpfung': '16', 'Technische Hilfeleistung': '39', 'Rettungsdienst': '710'}` to topic `einsatzzahlen`\n"
     ]
    },
    {
     "name": "stderr",
     "output_type": "stream",
     "text": [
      "\n",
      "\n",
      "====== WebDriver manager ======\n",
      "Current google-chrome version is 99.0.4844\n",
      "Get LATEST chromedriver version for 99.0.4844 google-chrome\n",
      "Driver [/Users/andrehaberkorn/.wdm/drivers/chromedriver/mac64/99.0.4844.51/chromedriver] found in cache\n"
     ]
    },
    {
     "name": "stdout",
     "output_type": "stream",
     "text": [
      "14:51:48:554098 Send `{'Brandbekämpfung': '16', 'Technische Hilfeleistung': '39', 'Rettungsdienst': '710'}` to topic `einsatzzahlen`\n"
     ]
    },
    {
     "name": "stderr",
     "output_type": "stream",
     "text": [
      "\n",
      "\n",
      "====== WebDriver manager ======\n",
      "Current google-chrome version is 99.0.4844\n",
      "Get LATEST chromedriver version for 99.0.4844 google-chrome\n",
      "Driver [/Users/andrehaberkorn/.wdm/drivers/chromedriver/mac64/99.0.4844.51/chromedriver] found in cache\n"
     ]
    },
    {
     "name": "stdout",
     "output_type": "stream",
     "text": [
      "14:52:31:914972 Send `{'Brandbekämpfung': '16', 'Technische Hilfeleistung': '39', 'Rettungsdienst': '713'}` to topic `einsatzzahlen`\n"
     ]
    },
    {
     "name": "stderr",
     "output_type": "stream",
     "text": [
      "\n",
      "\n",
      "====== WebDriver manager ======\n",
      "Current google-chrome version is 99.0.4844\n",
      "Get LATEST chromedriver version for 99.0.4844 google-chrome\n",
      "Driver [/Users/andrehaberkorn/.wdm/drivers/chromedriver/mac64/99.0.4844.51/chromedriver] found in cache\n"
     ]
    },
    {
     "ename": "KeyboardInterrupt",
     "evalue": "",
     "output_type": "error",
     "traceback": [
      "\u001b[0;31m---------------------------------------------------------------------------\u001b[0m",
      "\u001b[0;31mKeyboardInterrupt\u001b[0m                         Traceback (most recent call last)",
      "\u001b[1;32m/Users/andrehaberkorn/__Projekte__/Scrapper Einsätze/scrapper_v2.ipynb Cell 2'\u001b[0m in \u001b[0;36m<module>\u001b[0;34m\u001b[0m\n\u001b[1;32m      <a href='vscode-notebook-cell:/Users/andrehaberkorn/__Projekte__/Scrapper%20Eins%C3%A4tze/scrapper_v2.ipynb#ch0000001?line=0'>1</a>\u001b[0m \u001b[39mif\u001b[39;00m \u001b[39m__name__\u001b[39m \u001b[39m==\u001b[39m \u001b[39m\"\u001b[39m\u001b[39m__main__\u001b[39m\u001b[39m\"\u001b[39m:\n\u001b[0;32m----> <a href='vscode-notebook-cell:/Users/andrehaberkorn/__Projekte__/Scrapper%20Eins%C3%A4tze/scrapper_v2.ipynb#ch0000001?line=1'>2</a>\u001b[0m      main()\n",
      "\u001b[1;32m/Users/andrehaberkorn/__Projekte__/Scrapper Einsätze/scrapper_v2.ipynb Cell 1'\u001b[0m in \u001b[0;36mmain\u001b[0;34m()\u001b[0m\n\u001b[1;32m     <a href='vscode-notebook-cell:/Users/andrehaberkorn/__Projekte__/Scrapper%20Eins%C3%A4tze/scrapper_v2.ipynb#ch0000000?line=82'>83</a>\u001b[0m \u001b[39mwhile\u001b[39;00m \u001b[39mTrue\u001b[39;00m:\n\u001b[1;32m     <a href='vscode-notebook-cell:/Users/andrehaberkorn/__Projekte__/Scrapper%20Eins%C3%A4tze/scrapper_v2.ipynb#ch0000000?line=83'>84</a>\u001b[0m     daten \u001b[39m=\u001b[39m{}\n\u001b[0;32m---> <a href='vscode-notebook-cell:/Users/andrehaberkorn/__Projekte__/Scrapper%20Eins%C3%A4tze/scrapper_v2.ipynb#ch0000000?line=84'>85</a>\u001b[0m     daten \u001b[39m=\u001b[39m get_data()\n\u001b[1;32m     <a href='vscode-notebook-cell:/Users/andrehaberkorn/__Projekte__/Scrapper%20Eins%C3%A4tze/scrapper_v2.ipynb#ch0000000?line=85'>86</a>\u001b[0m     \u001b[39mif\u001b[39;00m daten:\n\u001b[1;32m     <a href='vscode-notebook-cell:/Users/andrehaberkorn/__Projekte__/Scrapper%20Eins%C3%A4tze/scrapper_v2.ipynb#ch0000000?line=86'>87</a>\u001b[0m         \u001b[39m#print(daten)\u001b[39;00m\n\u001b[1;32m     <a href='vscode-notebook-cell:/Users/andrehaberkorn/__Projekte__/Scrapper%20Eins%C3%A4tze/scrapper_v2.ipynb#ch0000000?line=87'>88</a>\u001b[0m         publish(client,daten)\n",
      "\u001b[1;32m/Users/andrehaberkorn/__Projekte__/Scrapper Einsätze/scrapper_v2.ipynb Cell 1'\u001b[0m in \u001b[0;36mget_data\u001b[0;34m()\u001b[0m\n\u001b[1;32m     <a href='vscode-notebook-cell:/Users/andrehaberkorn/__Projekte__/Scrapper%20Eins%C3%A4tze/scrapper_v2.ipynb#ch0000000?line=60'>61</a>\u001b[0m \u001b[39mdef\u001b[39;00m \u001b[39mget_data\u001b[39m():\n\u001b[1;32m     <a href='vscode-notebook-cell:/Users/andrehaberkorn/__Projekte__/Scrapper%20Eins%C3%A4tze/scrapper_v2.ipynb#ch0000000?line=61'>62</a>\u001b[0m     driver \u001b[39m=\u001b[39m webdriver\u001b[39m.\u001b[39mChrome(service\u001b[39m=\u001b[39mService(ChromeDriverManager(cache_valid_range\u001b[39m=\u001b[39m\u001b[39m1\u001b[39m)\u001b[39m.\u001b[39minstall()),options\u001b[39m=\u001b[39moptions)\n\u001b[0;32m---> <a href='vscode-notebook-cell:/Users/andrehaberkorn/__Projekte__/Scrapper%20Eins%C3%A4tze/scrapper_v2.ipynb#ch0000000?line=62'>63</a>\u001b[0m     driver\u001b[39m.\u001b[39;49mget(url)\n\u001b[1;32m     <a href='vscode-notebook-cell:/Users/andrehaberkorn/__Projekte__/Scrapper%20Eins%C3%A4tze/scrapper_v2.ipynb#ch0000000?line=63'>64</a>\u001b[0m     driver\u001b[39m.\u001b[39mimplicitly_wait(\u001b[39m8\u001b[39m)\n\u001b[1;32m     <a href='vscode-notebook-cell:/Users/andrehaberkorn/__Projekte__/Scrapper%20Eins%C3%A4tze/scrapper_v2.ipynb#ch0000000?line=64'>65</a>\u001b[0m     \u001b[39mtry\u001b[39;00m:\n",
      "File \u001b[0;32m~/__Projekte__/Scrapper Einsätze/env/lib/python3.9/site-packages/selenium/webdriver/remote/webdriver.py:437\u001b[0m, in \u001b[0;36mWebDriver.get\u001b[0;34m(self, url)\u001b[0m\n\u001b[1;32m    <a href='file:///~/__Projekte__/Scrapper%20Einsa%CC%88tze/env/lib/python3.9/site-packages/selenium/webdriver/remote/webdriver.py?line=432'>433</a>\u001b[0m \u001b[39mdef\u001b[39;00m \u001b[39mget\u001b[39m(\u001b[39mself\u001b[39m, url: \u001b[39mstr\u001b[39m) \u001b[39m-\u001b[39m\u001b[39m>\u001b[39m \u001b[39mNone\u001b[39;00m:\n\u001b[1;32m    <a href='file:///~/__Projekte__/Scrapper%20Einsa%CC%88tze/env/lib/python3.9/site-packages/selenium/webdriver/remote/webdriver.py?line=433'>434</a>\u001b[0m     \u001b[39m\"\"\"\u001b[39;00m\n\u001b[1;32m    <a href='file:///~/__Projekte__/Scrapper%20Einsa%CC%88tze/env/lib/python3.9/site-packages/selenium/webdriver/remote/webdriver.py?line=434'>435</a>\u001b[0m \u001b[39m    Loads a web page in the current browser session.\u001b[39;00m\n\u001b[1;32m    <a href='file:///~/__Projekte__/Scrapper%20Einsa%CC%88tze/env/lib/python3.9/site-packages/selenium/webdriver/remote/webdriver.py?line=435'>436</a>\u001b[0m \u001b[39m    \"\"\"\u001b[39;00m\n\u001b[0;32m--> <a href='file:///~/__Projekte__/Scrapper%20Einsa%CC%88tze/env/lib/python3.9/site-packages/selenium/webdriver/remote/webdriver.py?line=436'>437</a>\u001b[0m     \u001b[39mself\u001b[39;49m\u001b[39m.\u001b[39;49mexecute(Command\u001b[39m.\u001b[39;49mGET, {\u001b[39m'\u001b[39;49m\u001b[39murl\u001b[39;49m\u001b[39m'\u001b[39;49m: url})\n",
      "File \u001b[0;32m~/__Projekte__/Scrapper Einsätze/env/lib/python3.9/site-packages/selenium/webdriver/remote/webdriver.py:423\u001b[0m, in \u001b[0;36mWebDriver.execute\u001b[0;34m(self, driver_command, params)\u001b[0m\n\u001b[1;32m    <a href='file:///~/__Projekte__/Scrapper%20Einsa%CC%88tze/env/lib/python3.9/site-packages/selenium/webdriver/remote/webdriver.py?line=419'>420</a>\u001b[0m         params[\u001b[39m'\u001b[39m\u001b[39msessionId\u001b[39m\u001b[39m'\u001b[39m] \u001b[39m=\u001b[39m \u001b[39mself\u001b[39m\u001b[39m.\u001b[39msession_id\n\u001b[1;32m    <a href='file:///~/__Projekte__/Scrapper%20Einsa%CC%88tze/env/lib/python3.9/site-packages/selenium/webdriver/remote/webdriver.py?line=421'>422</a>\u001b[0m params \u001b[39m=\u001b[39m \u001b[39mself\u001b[39m\u001b[39m.\u001b[39m_wrap_value(params)\n\u001b[0;32m--> <a href='file:///~/__Projekte__/Scrapper%20Einsa%CC%88tze/env/lib/python3.9/site-packages/selenium/webdriver/remote/webdriver.py?line=422'>423</a>\u001b[0m response \u001b[39m=\u001b[39m \u001b[39mself\u001b[39;49m\u001b[39m.\u001b[39;49mcommand_executor\u001b[39m.\u001b[39;49mexecute(driver_command, params)\n\u001b[1;32m    <a href='file:///~/__Projekte__/Scrapper%20Einsa%CC%88tze/env/lib/python3.9/site-packages/selenium/webdriver/remote/webdriver.py?line=423'>424</a>\u001b[0m \u001b[39mif\u001b[39;00m response:\n\u001b[1;32m    <a href='file:///~/__Projekte__/Scrapper%20Einsa%CC%88tze/env/lib/python3.9/site-packages/selenium/webdriver/remote/webdriver.py?line=424'>425</a>\u001b[0m     \u001b[39mself\u001b[39m\u001b[39m.\u001b[39merror_handler\u001b[39m.\u001b[39mcheck_response(response)\n",
      "File \u001b[0;32m~/__Projekte__/Scrapper Einsätze/env/lib/python3.9/site-packages/selenium/webdriver/remote/remote_connection.py:316\u001b[0m, in \u001b[0;36mRemoteConnection.execute\u001b[0;34m(self, command, params)\u001b[0m\n\u001b[1;32m    <a href='file:///~/__Projekte__/Scrapper%20Einsa%CC%88tze/env/lib/python3.9/site-packages/selenium/webdriver/remote/remote_connection.py?line=313'>314</a>\u001b[0m data \u001b[39m=\u001b[39m utils\u001b[39m.\u001b[39mdump_json(params)\n\u001b[1;32m    <a href='file:///~/__Projekte__/Scrapper%20Einsa%CC%88tze/env/lib/python3.9/site-packages/selenium/webdriver/remote/remote_connection.py?line=314'>315</a>\u001b[0m url \u001b[39m=\u001b[39m \u001b[39mf\u001b[39m\u001b[39m\"\u001b[39m\u001b[39m{\u001b[39;00m\u001b[39mself\u001b[39m\u001b[39m.\u001b[39m_url\u001b[39m}\u001b[39;00m\u001b[39m{\u001b[39;00mpath\u001b[39m}\u001b[39;00m\u001b[39m\"\u001b[39m\n\u001b[0;32m--> <a href='file:///~/__Projekte__/Scrapper%20Einsa%CC%88tze/env/lib/python3.9/site-packages/selenium/webdriver/remote/remote_connection.py?line=315'>316</a>\u001b[0m \u001b[39mreturn\u001b[39;00m \u001b[39mself\u001b[39;49m\u001b[39m.\u001b[39;49m_request(command_info[\u001b[39m0\u001b[39;49m], url, body\u001b[39m=\u001b[39;49mdata)\n",
      "File \u001b[0;32m~/__Projekte__/Scrapper Einsätze/env/lib/python3.9/site-packages/selenium/webdriver/remote/remote_connection.py:338\u001b[0m, in \u001b[0;36mRemoteConnection._request\u001b[0;34m(self, method, url, body)\u001b[0m\n\u001b[1;32m    <a href='file:///~/__Projekte__/Scrapper%20Einsa%CC%88tze/env/lib/python3.9/site-packages/selenium/webdriver/remote/remote_connection.py?line=334'>335</a>\u001b[0m     body \u001b[39m=\u001b[39m \u001b[39mNone\u001b[39;00m\n\u001b[1;32m    <a href='file:///~/__Projekte__/Scrapper%20Einsa%CC%88tze/env/lib/python3.9/site-packages/selenium/webdriver/remote/remote_connection.py?line=336'>337</a>\u001b[0m \u001b[39mif\u001b[39;00m \u001b[39mself\u001b[39m\u001b[39m.\u001b[39mkeep_alive:\n\u001b[0;32m--> <a href='file:///~/__Projekte__/Scrapper%20Einsa%CC%88tze/env/lib/python3.9/site-packages/selenium/webdriver/remote/remote_connection.py?line=337'>338</a>\u001b[0m     resp \u001b[39m=\u001b[39m \u001b[39mself\u001b[39;49m\u001b[39m.\u001b[39;49m_conn\u001b[39m.\u001b[39;49mrequest(method, url, body\u001b[39m=\u001b[39;49mbody, headers\u001b[39m=\u001b[39;49mheaders)\n\u001b[1;32m    <a href='file:///~/__Projekte__/Scrapper%20Einsa%CC%88tze/env/lib/python3.9/site-packages/selenium/webdriver/remote/remote_connection.py?line=338'>339</a>\u001b[0m     statuscode \u001b[39m=\u001b[39m resp\u001b[39m.\u001b[39mstatus\n\u001b[1;32m    <a href='file:///~/__Projekte__/Scrapper%20Einsa%CC%88tze/env/lib/python3.9/site-packages/selenium/webdriver/remote/remote_connection.py?line=339'>340</a>\u001b[0m \u001b[39melse\u001b[39;00m:\n",
      "File \u001b[0;32m~/__Projekte__/Scrapper Einsätze/env/lib/python3.9/site-packages/urllib3/request.py:78\u001b[0m, in \u001b[0;36mRequestMethods.request\u001b[0;34m(self, method, url, fields, headers, **urlopen_kw)\u001b[0m\n\u001b[1;32m     <a href='file:///~/__Projekte__/Scrapper%20Einsa%CC%88tze/env/lib/python3.9/site-packages/urllib3/request.py?line=73'>74</a>\u001b[0m     \u001b[39mreturn\u001b[39;00m \u001b[39mself\u001b[39m\u001b[39m.\u001b[39mrequest_encode_url(\n\u001b[1;32m     <a href='file:///~/__Projekte__/Scrapper%20Einsa%CC%88tze/env/lib/python3.9/site-packages/urllib3/request.py?line=74'>75</a>\u001b[0m         method, url, fields\u001b[39m=\u001b[39mfields, headers\u001b[39m=\u001b[39mheaders, \u001b[39m*\u001b[39m\u001b[39m*\u001b[39murlopen_kw\n\u001b[1;32m     <a href='file:///~/__Projekte__/Scrapper%20Einsa%CC%88tze/env/lib/python3.9/site-packages/urllib3/request.py?line=75'>76</a>\u001b[0m     )\n\u001b[1;32m     <a href='file:///~/__Projekte__/Scrapper%20Einsa%CC%88tze/env/lib/python3.9/site-packages/urllib3/request.py?line=76'>77</a>\u001b[0m \u001b[39melse\u001b[39;00m:\n\u001b[0;32m---> <a href='file:///~/__Projekte__/Scrapper%20Einsa%CC%88tze/env/lib/python3.9/site-packages/urllib3/request.py?line=77'>78</a>\u001b[0m     \u001b[39mreturn\u001b[39;00m \u001b[39mself\u001b[39;49m\u001b[39m.\u001b[39;49mrequest_encode_body(\n\u001b[1;32m     <a href='file:///~/__Projekte__/Scrapper%20Einsa%CC%88tze/env/lib/python3.9/site-packages/urllib3/request.py?line=78'>79</a>\u001b[0m         method, url, fields\u001b[39m=\u001b[39;49mfields, headers\u001b[39m=\u001b[39;49mheaders, \u001b[39m*\u001b[39;49m\u001b[39m*\u001b[39;49murlopen_kw\n\u001b[1;32m     <a href='file:///~/__Projekte__/Scrapper%20Einsa%CC%88tze/env/lib/python3.9/site-packages/urllib3/request.py?line=79'>80</a>\u001b[0m     )\n",
      "File \u001b[0;32m~/__Projekte__/Scrapper Einsätze/env/lib/python3.9/site-packages/urllib3/request.py:170\u001b[0m, in \u001b[0;36mRequestMethods.request_encode_body\u001b[0;34m(self, method, url, fields, headers, encode_multipart, multipart_boundary, **urlopen_kw)\u001b[0m\n\u001b[1;32m    <a href='file:///~/__Projekte__/Scrapper%20Einsa%CC%88tze/env/lib/python3.9/site-packages/urllib3/request.py?line=166'>167</a>\u001b[0m extra_kw[\u001b[39m\"\u001b[39m\u001b[39mheaders\u001b[39m\u001b[39m\"\u001b[39m]\u001b[39m.\u001b[39mupdate(headers)\n\u001b[1;32m    <a href='file:///~/__Projekte__/Scrapper%20Einsa%CC%88tze/env/lib/python3.9/site-packages/urllib3/request.py?line=167'>168</a>\u001b[0m extra_kw\u001b[39m.\u001b[39mupdate(urlopen_kw)\n\u001b[0;32m--> <a href='file:///~/__Projekte__/Scrapper%20Einsa%CC%88tze/env/lib/python3.9/site-packages/urllib3/request.py?line=169'>170</a>\u001b[0m \u001b[39mreturn\u001b[39;00m \u001b[39mself\u001b[39;49m\u001b[39m.\u001b[39;49murlopen(method, url, \u001b[39m*\u001b[39;49m\u001b[39m*\u001b[39;49mextra_kw)\n",
      "File \u001b[0;32m~/__Projekte__/Scrapper Einsätze/env/lib/python3.9/site-packages/urllib3/poolmanager.py:375\u001b[0m, in \u001b[0;36mPoolManager.urlopen\u001b[0;34m(self, method, url, redirect, **kw)\u001b[0m\n\u001b[1;32m    <a href='file:///~/__Projekte__/Scrapper%20Einsa%CC%88tze/env/lib/python3.9/site-packages/urllib3/poolmanager.py?line=372'>373</a>\u001b[0m     response \u001b[39m=\u001b[39m conn\u001b[39m.\u001b[39murlopen(method, url, \u001b[39m*\u001b[39m\u001b[39m*\u001b[39mkw)\n\u001b[1;32m    <a href='file:///~/__Projekte__/Scrapper%20Einsa%CC%88tze/env/lib/python3.9/site-packages/urllib3/poolmanager.py?line=373'>374</a>\u001b[0m \u001b[39melse\u001b[39;00m:\n\u001b[0;32m--> <a href='file:///~/__Projekte__/Scrapper%20Einsa%CC%88tze/env/lib/python3.9/site-packages/urllib3/poolmanager.py?line=374'>375</a>\u001b[0m     response \u001b[39m=\u001b[39m conn\u001b[39m.\u001b[39;49murlopen(method, u\u001b[39m.\u001b[39;49mrequest_uri, \u001b[39m*\u001b[39;49m\u001b[39m*\u001b[39;49mkw)\n\u001b[1;32m    <a href='file:///~/__Projekte__/Scrapper%20Einsa%CC%88tze/env/lib/python3.9/site-packages/urllib3/poolmanager.py?line=376'>377</a>\u001b[0m redirect_location \u001b[39m=\u001b[39m redirect \u001b[39mand\u001b[39;00m response\u001b[39m.\u001b[39mget_redirect_location()\n\u001b[1;32m    <a href='file:///~/__Projekte__/Scrapper%20Einsa%CC%88tze/env/lib/python3.9/site-packages/urllib3/poolmanager.py?line=377'>378</a>\u001b[0m \u001b[39mif\u001b[39;00m \u001b[39mnot\u001b[39;00m redirect_location:\n",
      "File \u001b[0;32m~/__Projekte__/Scrapper Einsätze/env/lib/python3.9/site-packages/urllib3/connectionpool.py:703\u001b[0m, in \u001b[0;36mHTTPConnectionPool.urlopen\u001b[0;34m(self, method, url, body, headers, retries, redirect, assert_same_host, timeout, pool_timeout, release_conn, chunked, body_pos, **response_kw)\u001b[0m\n\u001b[1;32m    <a href='file:///~/__Projekte__/Scrapper%20Einsa%CC%88tze/env/lib/python3.9/site-packages/urllib3/connectionpool.py?line=699'>700</a>\u001b[0m     \u001b[39mself\u001b[39m\u001b[39m.\u001b[39m_prepare_proxy(conn)\n\u001b[1;32m    <a href='file:///~/__Projekte__/Scrapper%20Einsa%CC%88tze/env/lib/python3.9/site-packages/urllib3/connectionpool.py?line=701'>702</a>\u001b[0m \u001b[39m# Make the request on the httplib connection object.\u001b[39;00m\n\u001b[0;32m--> <a href='file:///~/__Projekte__/Scrapper%20Einsa%CC%88tze/env/lib/python3.9/site-packages/urllib3/connectionpool.py?line=702'>703</a>\u001b[0m httplib_response \u001b[39m=\u001b[39m \u001b[39mself\u001b[39;49m\u001b[39m.\u001b[39;49m_make_request(\n\u001b[1;32m    <a href='file:///~/__Projekte__/Scrapper%20Einsa%CC%88tze/env/lib/python3.9/site-packages/urllib3/connectionpool.py?line=703'>704</a>\u001b[0m     conn,\n\u001b[1;32m    <a href='file:///~/__Projekte__/Scrapper%20Einsa%CC%88tze/env/lib/python3.9/site-packages/urllib3/connectionpool.py?line=704'>705</a>\u001b[0m     method,\n\u001b[1;32m    <a href='file:///~/__Projekte__/Scrapper%20Einsa%CC%88tze/env/lib/python3.9/site-packages/urllib3/connectionpool.py?line=705'>706</a>\u001b[0m     url,\n\u001b[1;32m    <a href='file:///~/__Projekte__/Scrapper%20Einsa%CC%88tze/env/lib/python3.9/site-packages/urllib3/connectionpool.py?line=706'>707</a>\u001b[0m     timeout\u001b[39m=\u001b[39;49mtimeout_obj,\n\u001b[1;32m    <a href='file:///~/__Projekte__/Scrapper%20Einsa%CC%88tze/env/lib/python3.9/site-packages/urllib3/connectionpool.py?line=707'>708</a>\u001b[0m     body\u001b[39m=\u001b[39;49mbody,\n\u001b[1;32m    <a href='file:///~/__Projekte__/Scrapper%20Einsa%CC%88tze/env/lib/python3.9/site-packages/urllib3/connectionpool.py?line=708'>709</a>\u001b[0m     headers\u001b[39m=\u001b[39;49mheaders,\n\u001b[1;32m    <a href='file:///~/__Projekte__/Scrapper%20Einsa%CC%88tze/env/lib/python3.9/site-packages/urllib3/connectionpool.py?line=709'>710</a>\u001b[0m     chunked\u001b[39m=\u001b[39;49mchunked,\n\u001b[1;32m    <a href='file:///~/__Projekte__/Scrapper%20Einsa%CC%88tze/env/lib/python3.9/site-packages/urllib3/connectionpool.py?line=710'>711</a>\u001b[0m )\n\u001b[1;32m    <a href='file:///~/__Projekte__/Scrapper%20Einsa%CC%88tze/env/lib/python3.9/site-packages/urllib3/connectionpool.py?line=712'>713</a>\u001b[0m \u001b[39m# If we're going to release the connection in ``finally:``, then\u001b[39;00m\n\u001b[1;32m    <a href='file:///~/__Projekte__/Scrapper%20Einsa%CC%88tze/env/lib/python3.9/site-packages/urllib3/connectionpool.py?line=713'>714</a>\u001b[0m \u001b[39m# the response doesn't need to know about the connection. Otherwise\u001b[39;00m\n\u001b[1;32m    <a href='file:///~/__Projekte__/Scrapper%20Einsa%CC%88tze/env/lib/python3.9/site-packages/urllib3/connectionpool.py?line=714'>715</a>\u001b[0m \u001b[39m# it will also try to release it and we'll have a double-release\u001b[39;00m\n\u001b[1;32m    <a href='file:///~/__Projekte__/Scrapper%20Einsa%CC%88tze/env/lib/python3.9/site-packages/urllib3/connectionpool.py?line=715'>716</a>\u001b[0m \u001b[39m# mess.\u001b[39;00m\n\u001b[1;32m    <a href='file:///~/__Projekte__/Scrapper%20Einsa%CC%88tze/env/lib/python3.9/site-packages/urllib3/connectionpool.py?line=716'>717</a>\u001b[0m response_conn \u001b[39m=\u001b[39m conn \u001b[39mif\u001b[39;00m \u001b[39mnot\u001b[39;00m release_conn \u001b[39melse\u001b[39;00m \u001b[39mNone\u001b[39;00m\n",
      "File \u001b[0;32m~/__Projekte__/Scrapper Einsätze/env/lib/python3.9/site-packages/urllib3/connectionpool.py:449\u001b[0m, in \u001b[0;36mHTTPConnectionPool._make_request\u001b[0;34m(self, conn, method, url, timeout, chunked, **httplib_request_kw)\u001b[0m\n\u001b[1;32m    <a href='file:///~/__Projekte__/Scrapper%20Einsa%CC%88tze/env/lib/python3.9/site-packages/urllib3/connectionpool.py?line=443'>444</a>\u001b[0m             httplib_response \u001b[39m=\u001b[39m conn\u001b[39m.\u001b[39mgetresponse()\n\u001b[1;32m    <a href='file:///~/__Projekte__/Scrapper%20Einsa%CC%88tze/env/lib/python3.9/site-packages/urllib3/connectionpool.py?line=444'>445</a>\u001b[0m         \u001b[39mexcept\u001b[39;00m \u001b[39mBaseException\u001b[39;00m \u001b[39mas\u001b[39;00m e:\n\u001b[1;32m    <a href='file:///~/__Projekte__/Scrapper%20Einsa%CC%88tze/env/lib/python3.9/site-packages/urllib3/connectionpool.py?line=445'>446</a>\u001b[0m             \u001b[39m# Remove the TypeError from the exception chain in\u001b[39;00m\n\u001b[1;32m    <a href='file:///~/__Projekte__/Scrapper%20Einsa%CC%88tze/env/lib/python3.9/site-packages/urllib3/connectionpool.py?line=446'>447</a>\u001b[0m             \u001b[39m# Python 3 (including for exceptions like SystemExit).\u001b[39;00m\n\u001b[1;32m    <a href='file:///~/__Projekte__/Scrapper%20Einsa%CC%88tze/env/lib/python3.9/site-packages/urllib3/connectionpool.py?line=447'>448</a>\u001b[0m             \u001b[39m# Otherwise it looks like a bug in the code.\u001b[39;00m\n\u001b[0;32m--> <a href='file:///~/__Projekte__/Scrapper%20Einsa%CC%88tze/env/lib/python3.9/site-packages/urllib3/connectionpool.py?line=448'>449</a>\u001b[0m             six\u001b[39m.\u001b[39;49mraise_from(e, \u001b[39mNone\u001b[39;49;00m)\n\u001b[1;32m    <a href='file:///~/__Projekte__/Scrapper%20Einsa%CC%88tze/env/lib/python3.9/site-packages/urllib3/connectionpool.py?line=449'>450</a>\u001b[0m \u001b[39mexcept\u001b[39;00m (SocketTimeout, BaseSSLError, SocketError) \u001b[39mas\u001b[39;00m e:\n\u001b[1;32m    <a href='file:///~/__Projekte__/Scrapper%20Einsa%CC%88tze/env/lib/python3.9/site-packages/urllib3/connectionpool.py?line=450'>451</a>\u001b[0m     \u001b[39mself\u001b[39m\u001b[39m.\u001b[39m_raise_timeout(err\u001b[39m=\u001b[39me, url\u001b[39m=\u001b[39murl, timeout_value\u001b[39m=\u001b[39mread_timeout)\n",
      "File \u001b[0;32m<string>:3\u001b[0m, in \u001b[0;36mraise_from\u001b[0;34m(value, from_value)\u001b[0m\n",
      "File \u001b[0;32m~/__Projekte__/Scrapper Einsätze/env/lib/python3.9/site-packages/urllib3/connectionpool.py:444\u001b[0m, in \u001b[0;36mHTTPConnectionPool._make_request\u001b[0;34m(self, conn, method, url, timeout, chunked, **httplib_request_kw)\u001b[0m\n\u001b[1;32m    <a href='file:///~/__Projekte__/Scrapper%20Einsa%CC%88tze/env/lib/python3.9/site-packages/urllib3/connectionpool.py?line=440'>441</a>\u001b[0m \u001b[39mexcept\u001b[39;00m \u001b[39mTypeError\u001b[39;00m:\n\u001b[1;32m    <a href='file:///~/__Projekte__/Scrapper%20Einsa%CC%88tze/env/lib/python3.9/site-packages/urllib3/connectionpool.py?line=441'>442</a>\u001b[0m     \u001b[39m# Python 3\u001b[39;00m\n\u001b[1;32m    <a href='file:///~/__Projekte__/Scrapper%20Einsa%CC%88tze/env/lib/python3.9/site-packages/urllib3/connectionpool.py?line=442'>443</a>\u001b[0m     \u001b[39mtry\u001b[39;00m:\n\u001b[0;32m--> <a href='file:///~/__Projekte__/Scrapper%20Einsa%CC%88tze/env/lib/python3.9/site-packages/urllib3/connectionpool.py?line=443'>444</a>\u001b[0m         httplib_response \u001b[39m=\u001b[39m conn\u001b[39m.\u001b[39;49mgetresponse()\n\u001b[1;32m    <a href='file:///~/__Projekte__/Scrapper%20Einsa%CC%88tze/env/lib/python3.9/site-packages/urllib3/connectionpool.py?line=444'>445</a>\u001b[0m     \u001b[39mexcept\u001b[39;00m \u001b[39mBaseException\u001b[39;00m \u001b[39mas\u001b[39;00m e:\n\u001b[1;32m    <a href='file:///~/__Projekte__/Scrapper%20Einsa%CC%88tze/env/lib/python3.9/site-packages/urllib3/connectionpool.py?line=445'>446</a>\u001b[0m         \u001b[39m# Remove the TypeError from the exception chain in\u001b[39;00m\n\u001b[1;32m    <a href='file:///~/__Projekte__/Scrapper%20Einsa%CC%88tze/env/lib/python3.9/site-packages/urllib3/connectionpool.py?line=446'>447</a>\u001b[0m         \u001b[39m# Python 3 (including for exceptions like SystemExit).\u001b[39;00m\n\u001b[1;32m    <a href='file:///~/__Projekte__/Scrapper%20Einsa%CC%88tze/env/lib/python3.9/site-packages/urllib3/connectionpool.py?line=447'>448</a>\u001b[0m         \u001b[39m# Otherwise it looks like a bug in the code.\u001b[39;00m\n\u001b[1;32m    <a href='file:///~/__Projekte__/Scrapper%20Einsa%CC%88tze/env/lib/python3.9/site-packages/urllib3/connectionpool.py?line=448'>449</a>\u001b[0m         six\u001b[39m.\u001b[39mraise_from(e, \u001b[39mNone\u001b[39;00m)\n",
      "File \u001b[0;32m/Library/Frameworks/Python.framework/Versions/3.9/lib/python3.9/http/client.py:1347\u001b[0m, in \u001b[0;36mHTTPConnection.getresponse\u001b[0;34m(self)\u001b[0m\n\u001b[1;32m   <a href='file:///Library/Frameworks/Python.framework/Versions/3.9/lib/python3.9/http/client.py?line=1344'>1345</a>\u001b[0m \u001b[39mtry\u001b[39;00m:\n\u001b[1;32m   <a href='file:///Library/Frameworks/Python.framework/Versions/3.9/lib/python3.9/http/client.py?line=1345'>1346</a>\u001b[0m     \u001b[39mtry\u001b[39;00m:\n\u001b[0;32m-> <a href='file:///Library/Frameworks/Python.framework/Versions/3.9/lib/python3.9/http/client.py?line=1346'>1347</a>\u001b[0m         response\u001b[39m.\u001b[39;49mbegin()\n\u001b[1;32m   <a href='file:///Library/Frameworks/Python.framework/Versions/3.9/lib/python3.9/http/client.py?line=1347'>1348</a>\u001b[0m     \u001b[39mexcept\u001b[39;00m \u001b[39mConnectionError\u001b[39;00m:\n\u001b[1;32m   <a href='file:///Library/Frameworks/Python.framework/Versions/3.9/lib/python3.9/http/client.py?line=1348'>1349</a>\u001b[0m         \u001b[39mself\u001b[39m\u001b[39m.\u001b[39mclose()\n",
      "File \u001b[0;32m/Library/Frameworks/Python.framework/Versions/3.9/lib/python3.9/http/client.py:307\u001b[0m, in \u001b[0;36mHTTPResponse.begin\u001b[0;34m(self)\u001b[0m\n\u001b[1;32m    <a href='file:///Library/Frameworks/Python.framework/Versions/3.9/lib/python3.9/http/client.py?line=304'>305</a>\u001b[0m \u001b[39m# read until we get a non-100 response\u001b[39;00m\n\u001b[1;32m    <a href='file:///Library/Frameworks/Python.framework/Versions/3.9/lib/python3.9/http/client.py?line=305'>306</a>\u001b[0m \u001b[39mwhile\u001b[39;00m \u001b[39mTrue\u001b[39;00m:\n\u001b[0;32m--> <a href='file:///Library/Frameworks/Python.framework/Versions/3.9/lib/python3.9/http/client.py?line=306'>307</a>\u001b[0m     version, status, reason \u001b[39m=\u001b[39m \u001b[39mself\u001b[39;49m\u001b[39m.\u001b[39;49m_read_status()\n\u001b[1;32m    <a href='file:///Library/Frameworks/Python.framework/Versions/3.9/lib/python3.9/http/client.py?line=307'>308</a>\u001b[0m     \u001b[39mif\u001b[39;00m status \u001b[39m!=\u001b[39m CONTINUE:\n\u001b[1;32m    <a href='file:///Library/Frameworks/Python.framework/Versions/3.9/lib/python3.9/http/client.py?line=308'>309</a>\u001b[0m         \u001b[39mbreak\u001b[39;00m\n",
      "File \u001b[0;32m/Library/Frameworks/Python.framework/Versions/3.9/lib/python3.9/http/client.py:268\u001b[0m, in \u001b[0;36mHTTPResponse._read_status\u001b[0;34m(self)\u001b[0m\n\u001b[1;32m    <a href='file:///Library/Frameworks/Python.framework/Versions/3.9/lib/python3.9/http/client.py?line=266'>267</a>\u001b[0m \u001b[39mdef\u001b[39;00m \u001b[39m_read_status\u001b[39m(\u001b[39mself\u001b[39m):\n\u001b[0;32m--> <a href='file:///Library/Frameworks/Python.framework/Versions/3.9/lib/python3.9/http/client.py?line=267'>268</a>\u001b[0m     line \u001b[39m=\u001b[39m \u001b[39mstr\u001b[39m(\u001b[39mself\u001b[39;49m\u001b[39m.\u001b[39;49mfp\u001b[39m.\u001b[39;49mreadline(_MAXLINE \u001b[39m+\u001b[39;49m \u001b[39m1\u001b[39;49m), \u001b[39m\"\u001b[39m\u001b[39miso-8859-1\u001b[39m\u001b[39m\"\u001b[39m)\n\u001b[1;32m    <a href='file:///Library/Frameworks/Python.framework/Versions/3.9/lib/python3.9/http/client.py?line=268'>269</a>\u001b[0m     \u001b[39mif\u001b[39;00m \u001b[39mlen\u001b[39m(line) \u001b[39m>\u001b[39m _MAXLINE:\n\u001b[1;32m    <a href='file:///Library/Frameworks/Python.framework/Versions/3.9/lib/python3.9/http/client.py?line=269'>270</a>\u001b[0m         \u001b[39mraise\u001b[39;00m LineTooLong(\u001b[39m\"\u001b[39m\u001b[39mstatus line\u001b[39m\u001b[39m\"\u001b[39m)\n",
      "File \u001b[0;32m/Library/Frameworks/Python.framework/Versions/3.9/lib/python3.9/socket.py:704\u001b[0m, in \u001b[0;36mSocketIO.readinto\u001b[0;34m(self, b)\u001b[0m\n\u001b[1;32m    <a href='file:///Library/Frameworks/Python.framework/Versions/3.9/lib/python3.9/socket.py?line=701'>702</a>\u001b[0m \u001b[39mwhile\u001b[39;00m \u001b[39mTrue\u001b[39;00m:\n\u001b[1;32m    <a href='file:///Library/Frameworks/Python.framework/Versions/3.9/lib/python3.9/socket.py?line=702'>703</a>\u001b[0m     \u001b[39mtry\u001b[39;00m:\n\u001b[0;32m--> <a href='file:///Library/Frameworks/Python.framework/Versions/3.9/lib/python3.9/socket.py?line=703'>704</a>\u001b[0m         \u001b[39mreturn\u001b[39;00m \u001b[39mself\u001b[39;49m\u001b[39m.\u001b[39;49m_sock\u001b[39m.\u001b[39;49mrecv_into(b)\n\u001b[1;32m    <a href='file:///Library/Frameworks/Python.framework/Versions/3.9/lib/python3.9/socket.py?line=704'>705</a>\u001b[0m     \u001b[39mexcept\u001b[39;00m timeout:\n\u001b[1;32m    <a href='file:///Library/Frameworks/Python.framework/Versions/3.9/lib/python3.9/socket.py?line=705'>706</a>\u001b[0m         \u001b[39mself\u001b[39m\u001b[39m.\u001b[39m_timeout_occurred \u001b[39m=\u001b[39m \u001b[39mTrue\u001b[39;00m\n",
      "\u001b[0;31mKeyboardInterrupt\u001b[0m: "
     ]
    }
   ],
   "source": [
    "if __name__ == \"__main__\":\n",
    "     main()"
   ]
  },
  {
   "cell_type": "code",
   "execution_count": null,
   "metadata": {},
   "outputs": [],
   "source": []
  },
  {
   "cell_type": "code",
   "execution_count": null,
   "metadata": {},
   "outputs": [],
   "source": []
  }
 ],
 "metadata": {
  "interpreter": {
   "hash": "a7ecf42c586098fe1d1a681314fe97a82a9ba9f766396483f4827af529cf1877"
  },
  "kernelspec": {
   "display_name": "Python 3.9.1 ('env': venv)",
   "language": "python",
   "name": "python3"
  },
  "language_info": {
   "codemirror_mode": {
    "name": "ipython",
    "version": 3
   },
   "file_extension": ".py",
   "mimetype": "text/x-python",
   "name": "python",
   "nbconvert_exporter": "python",
   "pygments_lexer": "ipython3",
   "version": "3.9.1"
  },
  "orig_nbformat": 4
 },
 "nbformat": 4,
 "nbformat_minor": 2
}
